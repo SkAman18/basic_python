{
 "cells": [
  {
   "cell_type": "code",
   "execution_count": 1,
   "id": "f4ff67bf",
   "metadata": {},
   "outputs": [
    {
     "name": "stdout",
     "output_type": "stream",
     "text": [
      "enter the height4\n",
      "enter the weight24\n",
      "24.0\n",
      "healthy\n"
     ]
    }
   ],
   "source": [
    "height=float(input(\"enter the height\"))\n",
    "weight=float(input(\"enter the weight\"))\n",
    "bmi=weight/height*height\n",
    "print (bmi)\n",
    "if bmi<=18.9:\n",
    "    print(\"very over weight\")\n",
    "elif bmi<25.5:\n",
    "    print(\"healthy\")\n",
    "elif bmi<30.9:\n",
    "    print(\"over weight\")\n",
    "else :\n",
    "    print(\"suffring\")"
   ]
  },
  {
   "cell_type": "code",
   "execution_count": 2,
   "id": "6238c80c",
   "metadata": {},
   "outputs": [
    {
     "name": "stdout",
     "output_type": "stream",
     "text": [
      "enter the character:F\n",
      "uppercase\n"
     ]
    }
   ],
   "source": [
    "ch=input(\"enter the character:\")\n",
    "if ch>'A' and ch<'Z':\n",
    "    print(\"uppercase\")\n",
    "elif ch>'a' and ch<'z':\n",
    "    print(\"lowercase\")\n",
    "else:\n",
    "    print(\"invalid\")\n"
   ]
  },
  {
   "cell_type": "code",
   "execution_count": 3,
   "id": "8d1b5973",
   "metadata": {},
   "outputs": [
    {
     "name": "stdout",
     "output_type": "stream",
     "text": [
      "Enter the day: 6\n",
      "saturday\n"
     ]
    }
   ],
   "source": [
    "day = int(input(\"Enter the day: \"))\n",
    "if day == 1 :\n",
    "    print(\"Monday\")\n",
    "elif day == 2 :\n",
    "    print(\"Tuesday\")\n",
    "elif(day == 3) :\n",
    "    print(\"Wednesday\")\n",
    "elif(day == 4) :\n",
    "    print(\"Thursday\")\n",
    "elif (day == 5) :\n",
    "    print(\"Friday\")\n",
    "elif(day == 6) :\n",
    "    print(\"saturday\")\n",
    "elif (day == 7):\n",
    "    print(\"Sunday\")\n",
    "else :\n",
    "    print(\"invalid\")"
   ]
  },
  {
   "cell_type": "code",
   "execution_count": 4,
   "id": "5bd6e308",
   "metadata": {},
   "outputs": [
    {
     "name": "stdout",
     "output_type": "stream",
     "text": [
      "string is empty\n",
      "string is not empty\n"
     ]
    }
   ],
   "source": [
    "s = \"\"\n",
    "str = \"    \" \n",
    "if not s:\n",
    "    print(\"string is empty\")\n",
    "else:\n",
    "    print(\"string is not empty\")\n",
    "     \n",
    "if not str:\n",
    "    print(\"string is empty\")\n",
    "else:\n",
    "    print(\"string is not empty\")"
   ]
  },
  {
   "cell_type": "code",
   "execution_count": 5,
   "id": "f486e28b",
   "metadata": {},
   "outputs": [
    {
     "name": "stdout",
     "output_type": "stream",
     "text": [
      "enter the product cost250\n",
      "discount by 10 percent\n"
     ]
    }
   ],
   "source": [
    "product = int(input(\"enter the product cost\"))\n",
    "if product>=500:    \n",
    "   print(\"discount by 15 percent\")\n",
    "   product*= 0.85\n",
    "elif product>100:\n",
    "   print(\"discount by 10 percent\")\n",
    "   product*= 0.9\n",
    "elif product>=50:\n",
    "   print(\"discount by 5 percent\")\n",
    "   product*= 0.95\n",
    "else:\n",
    "   print(\"not purchase it\")"
   ]
  },
  {
   "cell_type": "code",
   "execution_count": 6,
   "id": "9d2144d5",
   "metadata": {},
   "outputs": [
    {
     "name": "stdout",
     "output_type": "stream",
     "text": [
      "enter the number :22\n",
      "voted\n"
     ]
    }
   ],
   "source": [
    "age=int(input(\"enter the number :\"))\n",
    "if age>18 :\n",
    "    print(\"voted\")\n",
    "else:\n",
    "    print(\"not voted\")"
   ]
  },
  {
   "cell_type": "code",
   "execution_count": 8,
   "id": "852158dc",
   "metadata": {},
   "outputs": [
    {
     "name": "stdout",
     "output_type": "stream",
     "text": [
      "enter the character:E\n",
      "vowel\n"
     ]
    }
   ],
   "source": [
    "ch=input(\"enter the character:\")\n",
    "if \"aeiouAEIOU\" :\n",
    "    print(\"vowel\")\n",
    "else:\n",
    "    print(\"consonent\")"
   ]
  },
  {
   "cell_type": "code",
   "execution_count": 9,
   "id": "4775ac50",
   "metadata": {},
   "outputs": [
    {
     "name": "stdout",
     "output_type": "stream",
     "text": [
      "enter the number :-5\n",
      "5\n"
     ]
    }
   ],
   "source": [
    "a=int(input(\"enter the number :\"))\n",
    "if a<0:\n",
    "    print(-a)\n",
    "else:\n",
    "    print(a)"
   ]
  },
  {
   "cell_type": "code",
   "execution_count": 10,
   "id": "1dd9c2e1",
   "metadata": {},
   "outputs": [
    {
     "name": "stdout",
     "output_type": "stream",
     "text": [
      "enter the number :5\n",
      "enter the number :9\n",
      "enter the number :3\n",
      "b is largest\n"
     ]
    }
   ],
   "source": [
    "a=int(input(\"enter the number :\"))\n",
    "b=int(input(\"enter the number :\"))\n",
    "c=int(input(\"enter the number :\"))\n",
    "if a>b and a>c :\n",
    "    print(\"a is a largest\")\n",
    "elif b>a and b>c :\n",
    "    print(\"b is largest\")\n",
    "else :\n",
    "    print(\"c is largest\")"
   ]
  },
  {
   "cell_type": "code",
   "execution_count": 11,
   "id": "1540092d",
   "metadata": {},
   "outputs": [
    {
     "name": "stdout",
     "output_type": "stream",
     "text": [
      "enter the number :6\n",
      "positive\n"
     ]
    }
   ],
   "source": [
    "a=int(input(\"enter the number :\"))\n",
    "if a>0 :\n",
    "    print(\"positive\")\n",
    "elif a==0 :\n",
    "    print(\"zero\")\n",
    "else :\n",
    "    print(\"negative\")"
   ]
  },
  {
   "cell_type": "code",
   "execution_count": 12,
   "id": "edd34de4",
   "metadata": {},
   "outputs": [
    {
     "name": "stdout",
     "output_type": "stream",
     "text": [
      "enter the number :7\n",
      "even number\n"
     ]
    }
   ],
   "source": [
    "a=int(input(\"enter the number :\"))\n",
    "if (a%2) == 0 :\n",
    "    print(\"odd number\")\n",
    "else :\n",
    "    print(\"even number\")    "
   ]
  },
  {
   "cell_type": "code",
   "execution_count": 19,
   "id": "e5d10256",
   "metadata": {},
   "outputs": [
    {
     "name": "stdout",
     "output_type": "stream",
     "text": [
      "enter the number :7\n",
      "even number\n"
     ]
    }
   ],
   "source": [
    "a=int(input(\"enter the number :\"))\n",
    "if (a%2) == 0 :\n",
    "    print(\"odd number\")\n",
    "else :\n",
    "    print(\"even number\")    "
   ]
  },
  {
   "cell_type": "code",
   "execution_count": 21,
   "id": "0f6a115c",
   "metadata": {},
   "outputs": [
    {
     "name": "stdout",
     "output_type": "stream",
     "text": [
      "prime\n",
      "prime\n",
      "prime\n",
      "prime\n"
     ]
    }
   ],
   "source": [
    "num=11\n",
    "if num>1:\n",
    "    for i in range(2,int(num/2)+1):\n",
    "        if num%i==0:\n",
    "            print(\"not prime\")\n",
    "            break\n",
    "        else:\n",
    "            print(\"prime\")\n",
    "else:\n",
    "            print(\"not prime\")"
   ]
  },
  {
   "cell_type": "code",
   "execution_count": null,
   "id": "ed1a40e5",
   "metadata": {},
   "outputs": [],
   "source": []
  }
 ],
 "metadata": {
  "kernelspec": {
   "display_name": "Python 3 (ipykernel)",
   "language": "python",
   "name": "python3"
  },
  "language_info": {
   "codemirror_mode": {
    "name": "ipython",
    "version": 3
   },
   "file_extension": ".py",
   "mimetype": "text/x-python",
   "name": "python",
   "nbconvert_exporter": "python",
   "pygments_lexer": "ipython3",
   "version": "3.11.5"
  }
 },
 "nbformat": 4,
 "nbformat_minor": 5
}
