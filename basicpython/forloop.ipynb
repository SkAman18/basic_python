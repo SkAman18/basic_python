{
 "cells": [
  {
   "cell_type": "code",
   "execution_count": 19,
   "id": "c3d621fa",
   "metadata": {},
   "outputs": [
    {
     "name": "stdout",
     "output_type": "stream",
     "text": [
      "1\n",
      "2\n",
      "3\n",
      "4\n",
      "5\n",
      "6\n",
      "7\n",
      "8\n",
      "9\n",
      "10\n"
     ]
    }
   ],
   "source": [
    "#for loop\n",
    "for i in range(1,11):\n",
    "    print(i)  "
   ]
  },
  {
   "cell_type": "code",
   "execution_count": 1,
   "id": "5d1e5cef",
   "metadata": {},
   "outputs": [
    {
     "name": "stdout",
     "output_type": "stream",
     "text": [
      "1\n",
      "3\n",
      "6\n",
      "10\n",
      "15\n",
      "21\n",
      "28\n",
      "36\n",
      "45\n",
      "55\n"
     ]
    }
   ],
   "source": [
    "sum=0\n",
    "for i in range(1,11):\n",
    "    sum=sum+i\n",
    "    print(sum)"
   ]
  },
  {
   "cell_type": "code",
   "execution_count": 28,
   "id": "864fe12e",
   "metadata": {},
   "outputs": [
    {
     "name": "stdout",
     "output_type": "stream",
     "text": [
      "42\n",
      "64\n"
     ]
    }
   ],
   "source": [
    "#product all elements in the list\n",
    "def product(list):\n",
    "    num=1\n",
    "    for i in list:\n",
    "        num=num*i\n",
    "    return num\n",
    "list1=[2,3,7]\n",
    "list2=[4,8,2]\n",
    "print(product(list1))\n",
    "print(product(list2))\n",
    "    "
   ]
  },
  {
   "cell_type": "code",
   "execution_count": 44,
   "id": "28a6855f",
   "metadata": {},
   "outputs": [
    {
     "name": "stdout",
     "output_type": "stream",
     "text": [
      "enter the num:5\n",
      "1\n",
      "2\n",
      "6\n",
      "24\n",
      "120\n"
     ]
    }
   ],
   "source": [
    "#factorial\n",
    "n=int(input(\"enter the num:\"))\n",
    "fact=1\n",
    "for i in range (1,n+1):\n",
    "    fact=fact*i\n",
    "    print(fact)"
   ]
  },
  {
   "cell_type": "code",
   "execution_count": 47,
   "id": "4dd3e912",
   "metadata": {},
   "outputs": [
    {
     "name": "stdout",
     "output_type": "stream",
     "text": [
      "p\n",
      "y\n",
      "t\n",
      "h\n",
      "o\n",
      "n\n"
     ]
    }
   ],
   "source": [
    "#iterate through the characters\n",
    "string =\"python\"\n",
    "for i in range(0,len(string)):\n",
    "    print(string[i])"
   ]
  },
  {
   "cell_type": "code",
   "execution_count": 58,
   "id": "a10c0cf1",
   "metadata": {},
   "outputs": [
    {
     "name": "stdout",
     "output_type": "stream",
     "text": [
      "0 1 1 2 3 5 8 13 21 34 \n"
     ]
    }
   ],
   "source": [
    "#fibonacci\n",
    "n =10\n",
    "a =0\n",
    "b =1\n",
    "c =0\n",
    "count=1\n",
    "while count<=n:\n",
    "    print(c,end=\" \")\n",
    "    count+=1\n",
    "    a,b=b,c\n",
    "    c =a+b\n",
    "print()"
   ]
  },
  {
   "cell_type": "code",
   "execution_count": 59,
   "id": "fa8513cb",
   "metadata": {},
   "outputs": [
    {
     "name": "stdout",
     "output_type": "stream",
     "text": [
      "5 x 1 = 5\n",
      "5 x 2 = 10\n",
      "5 x 3 = 15\n",
      "5 x 4 = 20\n",
      "5 x 5 = 25\n",
      "5 x 6 = 30\n",
      "5 x 7 = 35\n",
      "5 x 8 = 40\n",
      "5 x 9 = 45\n",
      "5 x 10 = 50\n"
     ]
    }
   ],
   "source": [
    "#Multiplication table\n",
    "num = 5\n",
    "for i in range(1, 11):\n",
    "   print(num, 'x', i, '=', num*i)\n"
   ]
  },
  {
   "cell_type": "code",
   "execution_count": 66,
   "id": "717bc2e8",
   "metadata": {},
   "outputs": [
    {
     "name": "stdout",
     "output_type": "stream",
     "text": [
      "15\n"
     ]
    }
   ],
   "source": [
    "# gcd of two numbers\n",
    "def gcd(a,b):\n",
    "    if a>b:\n",
    "        flag=b\n",
    "    else:\n",
    "        flag=a\n",
    "    for i in range(1,flag+1):\n",
    "        if((a % i == 0) and (b % i == 0)):\n",
    "            gcd = i \n",
    "    return gcd\n",
    "x=45\n",
    "y=15\n",
    "print(gcd(x,y))"
   ]
  },
  {
   "cell_type": "code",
   "execution_count": 75,
   "id": "ec719b4c",
   "metadata": {},
   "outputs": [
    {
     "name": "stdout",
     "output_type": "stream",
     "text": [
      "enter the Value : 12\n",
      "1\n",
      "3\n",
      "5\n",
      "7\n",
      "9\n",
      "11\n",
      "sum is 36\n"
     ]
    }
   ],
   "source": [
    "#odd num\n",
    "a= int(input(\"enter the Value : \"))\n",
    "sum= 0\n",
    "\n",
    "for i in range(1,a+1):\n",
    "    if(i % 2 != 0):\n",
    "        print(i)\n",
    "        sum=sum+i\n",
    "print(\"sum is\",sum) "
   ]
  },
  {
   "cell_type": "code",
   "execution_count": 78,
   "id": "eaf423ca",
   "metadata": {},
   "outputs": [
    {
     "name": "stdout",
     "output_type": "stream",
     "text": [
      " Please Enter the Maximum Value : 20\n",
      "2\n",
      "4\n",
      "6\n",
      "8\n",
      "10\n",
      "12\n",
      "14\n",
      "16\n",
      "18\n",
      "20\n"
     ]
    }
   ],
   "source": [
    "#even number\n",
    "a= int(input(\" Please Enter the Maximum Value : \"))\n",
    "for i in range(1,a+1):\n",
    "    if(i % 2 == 0):\n",
    "        print(i)"
   ]
  },
  {
   "cell_type": "code",
   "execution_count": 2,
   "id": "e2e6c877",
   "metadata": {},
   "outputs": [
    {
     "name": "stdout",
     "output_type": "stream",
     "text": [
      "[3, 5, 6, 4, 8]\n"
     ]
    }
   ],
   "source": [
    "#remove duplicate elements\n",
    "def duplicate(num):\n",
    "    list1= []\n",
    "    for i in num:\n",
    "        if i not in list1:\n",
    "            list1.append(i)\n",
    "    return list1\n",
    "num= [3,5,6,4,8,3,5,6]\n",
    "print(duplicate(num))\n"
   ]
  },
  {
   "cell_type": "code",
   "execution_count": 3,
   "id": "e0f000b4",
   "metadata": {},
   "outputs": [
    {
     "name": "stdout",
     "output_type": "stream",
     "text": [
      "Enter a year: 1992\n",
      "leap year\n"
     ]
    }
   ],
   "source": [
    "# Leap year \n",
    "year = int(input(\"Enter a year: \"))\n",
    "\n",
    "if year % 4 == 0:\n",
    "    if year % 100 == 0:\n",
    "        if year % 400 == 0:\n",
    "            print(\"leap year\")\n",
    "        else:\n",
    "            print(\"not a leap year\")\n",
    "    else:\n",
    "        print(\"leap year\")\n",
    "else:\n",
    "    print(\"not a leap year\")"
   ]
  },
  {
   "cell_type": "code",
   "execution_count": 4,
   "id": "dcabb3ae",
   "metadata": {},
   "outputs": [
    {
     "name": "stdout",
     "output_type": "stream",
     "text": [
      "84\n"
     ]
    }
   ],
   "source": [
    "#lcm\n",
    "a= 12\n",
    "b = 14\n",
    "for i in range(1, max(a,b)):\n",
    "    if a % i == b % i == 0:\n",
    "        hcf = i\n",
    "lcm = (a*b)//hcf\n",
    "\n",
    "print(lcm)"
   ]
  },
  {
   "cell_type": "code",
   "execution_count": 5,
   "id": "b542ec4a",
   "metadata": {},
   "outputs": [
    {
     "name": "stdout",
     "output_type": "stream",
     "text": [
      "Palindrome\n"
     ]
    }
   ],
   "source": [
    "#palindrome\n",
    "n=12321\n",
    "temp = n\n",
    "rev= 0\n",
    "while temp > 0:\n",
    "    rem = temp % 10\n",
    "    rev= (rev * 10) + rem\n",
    "    temp = temp // 10\n",
    "if n == rev:\n",
    "  print('Palindrome')\n",
    "else:\n",
    "  print(\"Not Palindrome\")"
   ]
  },
  {
   "cell_type": "code",
   "execution_count": 6,
   "id": "46ca1b0e",
   "metadata": {},
   "outputs": [
    {
     "name": "stdout",
     "output_type": "stream",
     "text": [
      "52\n"
     ]
    }
   ],
   "source": [
    "#large number\n",
    "a = [18, 52, 23, 41, 32]\n",
    "large=a[0]\n",
    "for i in a:\n",
    "    if i > large:\n",
    "        large = i\n",
    "\n",
    "print(large)"
   ]
  }
 ],
 "metadata": {
  "kernelspec": {
   "display_name": "Python 3 (ipykernel)",
   "language": "python",
   "name": "python3"
  },
  "language_info": {
   "codemirror_mode": {
    "name": "ipython",
    "version": 3
   },
   "file_extension": ".py",
   "mimetype": "text/x-python",
   "name": "python",
   "nbconvert_exporter": "python",
   "pygments_lexer": "ipython3",
   "version": "3.11.5"
  }
 },
 "nbformat": 4,
 "nbformat_minor": 5
}
